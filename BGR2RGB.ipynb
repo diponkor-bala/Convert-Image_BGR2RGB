{
 "cells": [
  {
   "cell_type": "code",
   "execution_count": 3,
   "id": "4a77ae1b",
   "metadata": {},
   "outputs": [
    {
     "name": "stdout",
     "output_type": "stream",
     "text": [
      "Before saving:\n",
      "['colon1.png', 'colon2.png']\n",
      "After saving image\n",
      "['colon1.png', 'colon2.png']\n",
      "Successfully saved\n",
      "Before saving:\n",
      "['colon1.png', 'colon2.png']\n",
      "After saving image\n",
      "['colon1.png', 'colon2.png']\n",
      "Successfully saved\n"
     ]
    }
   ],
   "source": [
    "# import libraries\n",
    "import cv2\n",
    "import os\n",
    "from os import listdir,makedirs\n",
    "from os.path import isfile,join\n",
    "import tensorflow as tf\n",
    "import numpy as np\n",
    "import glob\n",
    "from PIL import Image\n",
    "\n",
    "# specufy image path\n",
    "image_path = 'C:\\\\Users\\\\Diponkor\\\\Desktop\\\\img\\\\'\n",
    "\n",
    "# specify destination path\n",
    "directory = 'C:\\\\Users\\\\Diponkor\\\\Desktop\\\\newimg\\\\'\n",
    "\n",
    "i = 1\n",
    "\n",
    "for img in glob.glob(image_path+'/*.*'):\n",
    "    \n",
    "    try:\n",
    "        img = cv2.imread(img)\n",
    "        # Resize the images\n",
    "        img_resize = cv2.resize(img, (224, 224))\n",
    "        # Convert to grayscale (It is optional, depending on your choice)\n",
    "        #img_b = cv2.cvtColor(img, cv2.COLOR_BGR2RGB)\n",
    "\n",
    "\n",
    "        os.chdir(directory)\n",
    "        print(\"Before saving:\")\n",
    "        print(os.listdir(directory))\n",
    "        # Rename your dataset\n",
    "        filename = \"colon\" + str(i) + \".png\"\n",
    "        #filename = \"\" + str(i) + \".png\"\n",
    "       \n",
    "        cv2.imwrite(filename, img_resize)\n",
    "        #cv2.imwrite(filename, img_b)\n",
    "\n",
    "        print(\"After saving image\")\n",
    "        print(os.listdir(directory))\n",
    "        print(\"Successfully saved\")\n",
    "        \n",
    "        i+=1\n",
    "\n",
    "    except:\n",
    "        print (\"{} is not resized\".format(image))"
   ]
  }
 ],
 "metadata": {
  "kernelspec": {
   "display_name": "Python 3",
   "language": "python",
   "name": "python3"
  },
  "language_info": {
   "codemirror_mode": {
    "name": "ipython",
    "version": 3
   },
   "file_extension": ".py",
   "mimetype": "text/x-python",
   "name": "python",
   "nbconvert_exporter": "python",
   "pygments_lexer": "ipython3",
   "version": "3.8.8"
  }
 },
 "nbformat": 4,
 "nbformat_minor": 5
}
